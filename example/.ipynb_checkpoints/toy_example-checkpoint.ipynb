{
 "cells": [
  {
   "cell_type": "markdown",
   "id": "4f74b633",
   "metadata": {},
   "source": [
    "## Computing tract length distributions\n",
    "#### A set of toy examples with autosomal and X chromosome admixture"
   ]
  },
  {
   "cell_type": "code",
   "execution_count": 15,
   "id": "c33f835d",
   "metadata": {},
   "source": [
    "# Import required libraries\n",
    "import tracts.phase_type_distribution as PhT\n",
    "import tracts.hybrid_pedigree as HP\n",
    "import numpy as np\n",
    "import matplotlib.pyplot as plt\n",
    "from matplotlib.ticker import FormatStrFormatter\n",
    "import matplotlib as mpl\n",
    "mpl.rcParams.update(mpl.rcParamsDefault)"
   ],
   "outputs": []
  },
  {
   "cell_type": "markdown",
   "id": "0c64d13e",
   "metadata": {},
   "source": [
    "Throughout this notebook, we consider two source populations and a **continuous pulse** from the first to the second. This can be represented with the following migration matrix. The `whichpop` parameter sets the population of interest (0 or 1)."
   ]
  },
  {
   "cell_type": "code",
   "execution_count": 4,
   "id": "cb8b3bca",
   "metadata": {},
   "source": [
    "whichpop = 0\n",
    "mig_matrix = np.array([[0, 0],[0.2, 0],[0.2, 0],[0.2, 0],[0.2, 0],[0.2, 0],[0, 1]])"
   ],
   "outputs": []
  },
  {
   "cell_type": "markdown",
   "id": "b1e04b1d",
   "metadata": {},
   "source": [
    "In what follows, we compute Phase-Type densities and histograms under autosomal and X chromosome admixture, using all the models presented in tracts. We consider different levels of sex bias, in both migration and recombination rates."
   ]
  },
  {
   "cell_type": "markdown",
   "id": "200f82b2",
   "metadata": {},
   "source": [
    "### Choose autosomal or X chromosome admixture"
   ]
  },
  {
   "cell_type": "code",
   "execution_count": 31,
   "id": "4306a0c3",
   "metadata": {},
   "source": [
    "X_chr = False # Set to True for admixture on the X chromosome\n",
    "X_chr_male = False # Set to True if admixture is considered on the X chromosome of a male individual (only maternally inherited alleles)."
   ],
   "outputs": []
  },
  {
   "cell_type": "code",
   "execution_count": 32,
   "id": "18dbbe56",
   "metadata": {},
   "source": [
    "which_L = 1.7928357829 # Second chromosome\n",
    "#which_L = 1.96 # For the X chromosome\n",
    "# Set a point grid on the finite chromosome\n",
    "bins = np.linspace(0, which_L+0.1, num = 50)"
   ],
   "outputs": []
  },
  {
   "cell_type": "markdown",
   "id": "d258daf1",
   "metadata": {},
   "source": [
    "### Set sex-bias\n",
    "The following parameters set the sex-bias for migration and recombination rates. The user can modify these parameters to observe how differences appear between all the considered models."
   ]
  },
  {
   "cell_type": "code",
   "execution_count": 22,
   "id": "3b8d0e8e",
   "metadata": {},
   "source": [
    "prop_of_female_migration = 0.5 # 0.5 for unbiased migration, 1 for only female migrants, 0 for only male migrants.\n",
    "mig_m = 2*mig_matrix*(1-prop_of_female_migration)\n",
    "mig_f = 2*mig_matrix*prop_of_female_migration\n",
    "mig_m[-1,:] = mig_matrix[-1,:]\n",
    "mig_f[-1,:] = mig_matrix[-1,:]\n",
    "\n",
    "rec_f = 1 # Female-specific recombination rate\n",
    "rec_m = 1 # Male-specific recombination rate"
   ],
   "outputs": []
  },
  {
   "cell_type": "markdown",
   "id": "8f21e0d4",
   "metadata": {},
   "source": [
    "### Compute model parameters and distributions\n",
    "For the Monoecious (M), Dioecious Fine (DF) and Dioecious Coarse (DC) models, we first compute a PhTMonoecious or PhTDioecious object, and then compute the Phase-Type density or histogram with a different function. For the Pedigree-Dioecious models, densities and histograms are computed directly from the model parameters.\n",
    "\n",
    "For comparison with the other settings, the Monoecious model is always computed using the mean migration matrix and the mean recombination rate."
   ]
  },
  {
   "cell_type": "markdown",
   "id": "67ad6888",
   "metadata": {},
   "source": [
    "#### Monoecious model (don't run for X chromosome)"
   ]
  },
  {
   "cell_type": "code",
   "execution_count": 26,
   "id": "9bf282f3",
   "metadata": {},
   "source": [
    "PTmodel_mono = PhT.PhTMonoecious(mig_matrix, rho = 0.5*(rec_f+rec_m)) # M object\n",
    "# Density (set freq = True for frequency scale)\n",
    "newbins, density_m, E = PTmodel_mono.tractlength_histogram_windowed(whichpop, bins, L = which_L, density = True, freq = False)\n",
    "# Histogram\n",
    "hist_m, E = PTmodel_mono.tractlength_histogram_windowed(whichpop, bins, L = which_L, density = False, freq = False)"
   ],
   "outputs": []
  },
  {
   "cell_type": "markdown",
   "id": "286ecabf",
   "metadata": {},
   "source": [
    "#### Dioecious Fine and Coarse models"
   ]
  },
  {
   "cell_type": "code",
   "execution_count": 27,
   "id": "cb2dcf16",
   "metadata": {},
   "source": [
    "# DF and DC objects\n",
    "PTmodel_DF = PhT.PhTDioecious(mig_f, mig_m, rho_f = rec_f, rho_m = rec_m, sex_model = 'DF', X_chromosome = X_chr, X_chromosome_male = X_chr_male)\n",
    "PTmodel_DC = PhT.PhTDioecious(mig_f , mig_m, rho_f = rec_f, rho_m = rec_m, sex_model = 'DC', X_chromosome = X_chr, X_chromosome_male = X_chr_male)\n",
    "# Densities (set freq = True for frequency scale)\n",
    "newbins, density_df, E = PTmodel_DF.tractlength_histogram_windowed(whichpop, bins, L = which_L, density = True, freq = False)\n",
    "newbins, density_dc, E = PTmodel_DC.tractlength_histogram_windowed(whichpop, bins, L = which_L, density = True, freq = False)\n",
    "# Histograms\n",
    "hist_df, E = PTmodel_DF.tractlength_histogram_windowed(whichpop, bins, L = which_L, density = False, freq = False)\n",
    "hist_dc, E = PTmodel_DC.tractlength_histogram_windowed(whichpop, bins, L = which_L, density = False, freq = False)"
   ],
   "outputs": []
  },
  {
   "cell_type": "markdown",
   "id": "064ea47e",
   "metadata": {},
   "source": [
    "#### Pedigree-Dioecious models"
   ]
  },
  {
   "cell_type": "code",
   "execution_count": 33,
   "id": "8672de97",
   "metadata": {},
   "source": [
    "# Phase-Type density for the Pedigree-DF model (set freq = True for frequency scale)\n",
    "newbins, density_hp_df = HP.hybrid_pedigree_distribution(mig_matrix_f = mig_f, mig_matrix_m = mig_m, TP = 2, Dioecious_model = 'DF', L = which_L, bingrid = bins, whichpop = whichpop, rr_f = rec_f, rr_m = rec_m, X_chr = X_chr, X_chr_male = X_chr_male, N_cores = 5, density = True, freq = False)\n",
    "# Phase-Type density for the Pedigree-DC model (set freq = True for frequency scale)\n",
    "newbins, density_hp_dc = HP.hybrid_pedigree_distribution(mig_matrix_f = mig_f, mig_matrix_m = mig_m, TP = 2, Dioecious_model = 'DC', L = which_L, bingrid = bins, whichpop = whichpop, rr_f = rec_f, rr_m = rec_m, X_chr = X_chr, X_chr_male = X_chr_male, N_cores = 5, density = True, freq = False)\n",
    "# Phase-Type histogram for the Pedigree-DF model\n",
    "bins, hist_hp_df = HP.hybrid_pedigree_distribution(mig_matrix_f = mig_f, mig_matrix_m = mig_m, TP = 2, Dioecious_model = 'DF', L = which_L, bingrid = bins, whichpop = whichpop, rr_f = rec_f, rr_m = rec_m, X_chr = X_chr, X_chr_male = X_chr_male, N_cores = 5, density = False, freq = False)\n",
    "# Phase-Type histogram for the Pedigree-DC model\n",
    "bins, hist_hp_dc = HP.hybrid_pedigree_distribution(mig_matrix_f = mig_f, mig_matrix_m = mig_m, TP = 2, Dioecious_model = 'DC', L = which_L, bingrid = bins, whichpop = whichpop, rr_f = rec_f, rr_m = rec_m, X_chr = X_chr, X_chr_male = X_chr_male, N_cores = 5, density = False, freq = False)"
   ],
   "outputs": []
  },
  {
   "cell_type": "markdown",
   "id": "e8ef3641",
   "metadata": {},
   "source": [
    "### Plot densities"
   ]
  },
  {
   "cell_type": "code",
   "execution_count": 35,
   "id": "53798d3f",
   "metadata": {},
   "source": [
    "# Color palette and line styles\n",
    "colors = {\n",
    "    'M' : 'gray',\n",
    "    'DC': 'green',\n",
    "    'DF': 'blue',\n",
    "    'P': 'orange',\n",
    "    'HP' : 'orange',\n",
    "    'HP_DC': 'orange',\n",
    "}\n",
    "line_styles = {\n",
    "    'M' : '-',\n",
    "    'DF': '-',\n",
    "    'DC': '-',\n",
    "    'P': '-',\n",
    "    'HP':'-',\n",
    "    'HP_DC':'-'\n",
    "}\n",
    "\n",
    "line_widths = {\n",
    "    'M' : 2,\n",
    "    'DF': 2,\n",
    "    'DC': 2,\n",
    "    'P': 2,\n",
    "    'HP':2,\n",
    "    'HP_DC':2\n",
    "}"
   ],
   "outputs": []
  },
  {
   "cell_type": "markdown",
   "id": "e1ebbf45",
   "metadata": {},
   "source": [
    "#### Plot for autosomal admixture\n",
    "The following code produces a figure depicting all the computed Phase-Type densities for autosomal admixture."
   ]
  },
  {
   "cell_type": "code",
   "execution_count": 36,
   "id": "8a6e8961",
   "metadata": {},
   "source": [
    "outbin = np.max(np.asarray(newbins)[np.asarray(newbins) == which_L])\n",
    "whichbin = int(np.where(np.asarray(newbins) == outbin)[0][0])\n",
    "\n",
    "fig, axes = plt.subplots(1, 1, figsize=(5,4))  # 3x3 grid of subplots\n",
    "ax = axes  \n",
    "# Plot lines with improved color and line style\n",
    "line1, = ax.plot(np.delete(newbins, whichbin), (density_df[~(np.asarray(newbins) == outbin)]), color=colors['DF'], linestyle=line_styles['DF'], linewidth = line_widths['DF'],  label='Dioecious Fine (DF)', zorder = 1)\n",
    "line2, = ax.plot(np.delete(newbins, whichbin), (density_dc[~(np.asarray(newbins) == outbin)]), color=colors['DC'], linestyle=line_styles['DC'], linewidth = line_widths['DC'], label='Dioecious Coarse (DC)', zorder = 1)\n",
    "line3, = ax.plot(np.delete(newbins, whichbin), (density_m[~(np.asarray(newbins) == outbin)]), color=colors['M'], linestyle=line_styles['M'], linewidth = line_widths['M'], label='Monoecious (M)', zorder = 1)\n",
    "line4, = ax.plot(np.delete(newbins, whichbin), density_hp_df[~(np.asarray(newbins) == outbin)], color=colors['HP'], linestyle=line_styles['HP'], linewidth = line_widths['HP'], label='Ped-DF (TP = 2)', zorder = 1)\n",
    "line5, = ax.plot(np.delete(newbins, whichbin), density_hp_df[~(np.asarray(newbins) == outbin)], color=colors['DF'], linestyle=(2, (2, 2)), linewidth = line_widths['HP'], label='Ped-DF (TP = 2)', zorder = 1)\n",
    "line6, = ax.plot(np.delete(newbins, whichbin), density_hp_dc[~(np.asarray(newbins) == outbin)], color=colors['HP_DC'], linestyle=line_styles['HP_DC'], linewidth = line_widths['HP_DC'], label='Ped-DC (TP = 2)', zorder = 1)\n",
    "line7, = ax.plot(np.delete(newbins, whichbin), density_hp_dc[~(np.asarray(newbins) == outbin)], color=colors['DC'], linestyle=(2, (2, 2)), linewidth = line_widths['HP_DC'], label='Ped-DC (TP = 2)', zorder = 1)\n",
    "        \n",
    "# Customize x and y labels\n",
    "ax.set_xlabel('Tract length on the second chromosome', fontsize=10)\n",
    "ax.set_ylabel('Density', fontsize=10)\n",
    "        \n",
    "# Add outlier point to the plot\n",
    "ax.scatter(outbin, (density_df[np.where(newbins == outbin)[0] - 1]), edgecolor=colors['DF'], s=30, label='Outlier', marker='o', facecolor='white', alpha = 1, zorder = 3)\n",
    "ax.scatter(outbin, (density_dc[np.where(newbins == outbin)[0] - 1]), edgecolor=colors['DC'], s=30, label='Outlier',marker='o', facecolor='white', alpha = 1, zorder = 3)\n",
    "ax.scatter(outbin, (density_m[np.where(newbins == outbin)[0] - 1]), edgecolor=colors['M'], s=30, label='Outlier', marker='o', facecolor='white', alpha = 1, zorder = 3)\n",
    "ax.scatter(outbin, (density_hp_df[np.where(newbins == outbin)[0] - 1]), edgecolor=colors['HP'], s=30, label='Outlier', marker='o', facecolor='white', alpha = 1, zorder = 3)\n",
    "ax.scatter(outbin, (density_hp_dc[np.where(newbins == outbin)[0] - 1]), edgecolor=colors['HP_DC'], s=30, label='Outlier', marker='o', facecolor='white', alpha = 1, zorder = 3)\n",
    "\n",
    "# Add outlier point to the plot\n",
    "ax.scatter(outbin, density_df[np.where(newbins == outbin)], edgecolor=colors['DF'], s=30, label='Outlier', marker='o', facecolor=colors['DF'], zorder = 4)\n",
    "ax.scatter(outbin, density_hp_dc[np.where(newbins == outbin)], edgecolor=colors['DC'], s=30, label='Outlier',marker='o', facecolor=colors['DC'], zorder = 4)\n",
    "ax.scatter(outbin, density_m[np.where(newbins == outbin)], edgecolor=colors['M'], s=30, label='Outlier', marker='o', facecolor=colors['M'], zorder = 4)\n",
    "ax.scatter(outbin, density_hp_df[np.where(newbins == outbin)], edgecolor=colors['HP'], s=30, label='Outlier', marker='o', facecolor=colors['HP'], zorder = 4)\n",
    "ax.scatter(outbin, density_hp_df[np.where(newbins == outbin)], edgecolor=colors['HP'], s=15, label='Outlier', marker='o', facecolor=colors['DF'], zorder = 4)\n",
    "ax.scatter(outbin, density_hp_dc[np.where(newbins == outbin)], edgecolor=colors['HP_DC'], s=30, label='Outlier', marker='o', facecolor=colors['HP_DC'], zorder = 4)\n",
    "ax.scatter(outbin, density_hp_dc[np.where(newbins == outbin)], edgecolor=colors['HP_DC'], s=15, label='Outlier', marker='o', facecolor=colors['DC'], zorder = 4)\n",
    "\n",
    "# Add gridlines\n",
    "ax.grid(True, linestyle='--', alpha=0.6)\n",
    "\n",
    "# Set limits for x-axis and y-axis if necessary\n",
    "ax.set_xlim(0, which_L+0.1)\n",
    "\n",
    "# Customize the ticks\n",
    "ax.tick_params(axis='both', which='major', labelsize=10)\n",
    "ax.yaxis.set_major_formatter(FormatStrFormatter('%.2f'))\n",
    "\n",
    "handles = []\n",
    "labels = []\n",
    "handles.extend([line1, line2, line3, (line4, line5), (line6, line7)])\n",
    "labels.extend([line1.get_label(), line2.get_label(), line3.get_label(), line4.get_label(), line6.get_label()])\n",
    "\n",
    "fig.legend(handles=handles, labels=labels, loc='lower center', bbox_to_anchor=(0.55, -0.2), ncol=2, fontsize=10)\n",
    "\n",
    "# Adjust spacing between subplots for better layout\n",
    "plt.tight_layout(rect=[0, 0, 1, 0.95])\n",
    "plt.show()"
   ],
   "outputs": []
  },
  {
   "cell_type": "markdown",
   "id": "e995b2bb",
   "metadata": {},
   "source": [
    "#### Plot for X chromosome admixture\n",
    "The following code produces a figure depicting all the computed Phase-Type densities for admixture on the X chromosome."
   ]
  },
  {
   "cell_type": "code",
   "execution_count": 37,
   "id": "3b50abff",
   "metadata": {},
   "source": [
    "outbin = np.max(np.asarray(newbins)[np.asarray(newbins) == which_L])\n",
    "whichbin = int(np.where(np.asarray(newbins) == outbin)[0][0])\n",
    "\n",
    "fig, axes = plt.subplots(1, 1, figsize=(5,4))  # 3x3 grid of subplots\n",
    "ax = axes  \n",
    "# Plot lines with improved color and line style\n",
    "line1, = ax.plot(np.delete(newbins, whichbin), (density_df[~(np.asarray(newbins) == outbin)]), color=colors['DF'], linestyle=line_styles['DF'], linewidth = line_widths['DF'],  label='Dioecious Fine (DF)', zorder = 1)\n",
    "line2, = ax.plot(np.delete(newbins, whichbin), (density_dc[~(np.asarray(newbins) == outbin)]), color=colors['DC'], linestyle=line_styles['DC'], linewidth = line_widths['DC'], label='Dioecious Coarse (DC)', zorder = 1)\n",
    "line4, = ax.plot(np.delete(newbins, whichbin), density_hp_df[~(np.asarray(newbins) == outbin)], color=colors['HP'], linestyle=line_styles['HP'], linewidth = line_widths['HP'], label='Ped-DF (TP = 2)', zorder = 1)\n",
    "line5, = ax.plot(np.delete(newbins, whichbin), density_hp_df[~(np.asarray(newbins) == outbin)], color=colors['DF'], linestyle=(2, (2, 2)), linewidth = line_widths['HP'], label='Ped-DF (TP = 2)', zorder = 1)\n",
    "line6, = ax.plot(np.delete(newbins, whichbin), density_hp_dc[~(np.asarray(newbins) == outbin)], color=colors['HP_DC'], linestyle=line_styles['HP_DC'], linewidth = line_widths['HP_DC'], label='Ped-DC (TP = 2)', zorder = 1)\n",
    "line7, = ax.plot(np.delete(newbins, whichbin), density_hp_dc[~(np.asarray(newbins) == outbin)], color=colors['DC'], linestyle=(2, (2, 2)), linewidth = line_widths['HP_DC'], label='Ped-DC (TP = 2)', zorder = 1)\n",
    "        \n",
    "# Customize x and y labels\n",
    "ax.set_xlabel('Tract length on the X chromosome', fontsize=10)\n",
    "ax.set_ylabel('Density', fontsize=10)\n",
    "        \n",
    "# Add outlier point to the plot\n",
    "ax.scatter(outbin, (density_df[np.where(newbins == outbin)[0] - 1]), edgecolor=colors['DF'], s=30, label='Outlier', marker='o', facecolor='white', alpha = 1, zorder = 3)\n",
    "ax.scatter(outbin, (density_dc[np.where(newbins == outbin)[0] - 1]), edgecolor=colors['DC'], s=30, label='Outlier',marker='o', facecolor='white', alpha = 1, zorder = 3)\n",
    "ax.scatter(outbin, (density_hp_df[np.where(newbins == outbin)[0] - 1]), edgecolor=colors['HP'], s=30, label='Outlier', marker='o', facecolor='white', alpha = 1, zorder = 3)\n",
    "ax.scatter(outbin, (density_hp_dc[np.where(newbins == outbin)[0] - 1]), edgecolor=colors['HP_DC'], s=30, label='Outlier', marker='o', facecolor='white', alpha = 1, zorder = 3)\n",
    "\n",
    "# Add outlier point to the plot\n",
    "ax.scatter(outbin, density_df[np.where(newbins == outbin)], edgecolor=colors['DF'], s=30, label='Outlier', marker='o', facecolor=colors['DF'], zorder = 4)\n",
    "ax.scatter(outbin, density_hp_dc[np.where(newbins == outbin)], edgecolor=colors['DC'], s=30, label='Outlier',marker='o', facecolor=colors['DC'], zorder = 4)\n",
    "ax.scatter(outbin, density_hp_df[np.where(newbins == outbin)], edgecolor=colors['HP'], s=30, label='Outlier', marker='o', facecolor=colors['HP'], zorder = 4)\n",
    "ax.scatter(outbin, density_hp_df[np.where(newbins == outbin)], edgecolor=colors['HP'], s=15, label='Outlier', marker='o', facecolor=colors['DF'], zorder = 4)\n",
    "ax.scatter(outbin, density_hp_dc[np.where(newbins == outbin)], edgecolor=colors['HP_DC'], s=30, label='Outlier', marker='o', facecolor=colors['HP_DC'], zorder = 4)\n",
    "ax.scatter(outbin, density_hp_dc[np.where(newbins == outbin)], edgecolor=colors['HP_DC'], s=15, label='Outlier', marker='o', facecolor=colors['DC'], zorder = 4)\n",
    "\n",
    "# Add gridlines\n",
    "ax.grid(True, linestyle='--', alpha=0.6)\n",
    "\n",
    "# Set limits for x-axis and y-axis if necessary\n",
    "ax.set_xlim(0, which_L+0.1)\n",
    "\n",
    "# Customize the ticks\n",
    "ax.tick_params(axis='both', which='major', labelsize=10)\n",
    "ax.yaxis.set_major_formatter(FormatStrFormatter('%.2f'))\n",
    "\n",
    "handles = []\n",
    "labels = []\n",
    "handles.extend([line1, line2, (line4, line5), (line6, line7)])\n",
    "labels.extend([line1.get_label(), line2.get_label(), line4.get_label(), line6.get_label()])\n",
    "\n",
    "fig.legend(handles=handles, labels=labels, loc='lower center', bbox_to_anchor=(0.55, -0.2), ncol=2, fontsize=10)\n",
    "\n",
    "# Adjust spacing between subplots for better layout\n",
    "plt.tight_layout(rect=[0, 0, 1, 0.95])\n",
    "plt.show()"
   ],
   "outputs": []
  },
  {
   "cell_type": "markdown",
   "id": "c0bbf9b4",
   "metadata": {},
   "source": [
    "### Plot histograms"
   ]
  },
  {
   "cell_type": "code",
   "execution_count": null,
   "id": "b2f8daf9",
   "metadata": {},
   "source": [
    "outbin = np.max(np.asarray(newbins)[np.asarray(newbins) == which_L])\n",
    "whichbin = int(np.where(np.asarray(newbins) == outbin)[0][0])\n",
    "\n",
    "fig, axes = plt.subplots(1, 1, figsize=(5,4))  # 3x3 grid of subplots\n",
    "ax = axes  \n",
    "# Plot lines with improved color and line style\n",
    "line1, = ax.step(np.delete(bins, whichbin), (hist_df[~(np.asarray(newbins) == outbin)]), color=colors['DF'], linestyle=line_styles['DF'], linewidth = line_widths['DF'],  label='Dioecious Fine (DF)', zorder = 1)\n",
    "line2, = ax.step(np.delete(bins, whichbin), (hist_dc[~(np.asarray(newbins) == outbin)]), color=colors['DC'], linestyle=line_styles['DC'], linewidth = line_widths['DC'], label='Dioecious Coarse (DC)', zorder = 1)\n",
    "line3, = ax.step(np.delete(bins, whichbin), (hist_m[~(np.asarray(newbins) == outbin)]), color=colors['M'], linestyle=line_styles['M'], linewidth = line_widths['M'], label='Monoecious (M)', zorder = 1)\n",
    "line4, = ax.step(np.delete(bins, whichbin), hist_hp_df[~(np.asarray(newbins) == outbin)], color=colors['HP'], linestyle=line_styles['HP'], linewidth = line_widths['HP'], label='Ped-DF (TP = 2)', zorder = 1)\n",
    "line5, = ax.step(np.delete(bins, whichbin), hist_hp_df[~(np.asarray(newbins) == outbin)], color=colors['DF'], linestyle=(2, (2, 2)), linewidth = line_widths['HP'], label='Ped-DF (TP = 2)', zorder = 1)\n",
    "line6, = ax.step(np.delete(bins, whichbin), hist_hp_dc[~(np.asarray(newbins) == outbin)], color=colors['HP_DC'], linestyle=line_styles['HP_DC'], linewidth = line_widths['HP_DC'], label='Ped-DC (TP = 2)', zorder = 1)\n",
    "line7, = ax.step(np.delete(bins, whichbin), hist_hp_dc[~(np.asarray(newbins) == outbin)], color=colors['DC'], linestyle=(2, (2, 2)), linewidth = line_widths['HP_DC'], label='Ped-DC (TP = 2)', zorder = 1)\n",
    "        \n",
    "# Customize x and y labels\n",
    "ax.set_xlabel('Tract length on the second chromosome', fontsize=10)\n",
    "ax.set_ylabel('Density', fontsize=10)\n",
    "        \n",
    "# Add outlier point to the plot\n",
    "ax.scatter(outbin, (density_df[np.where(newbins == outbin)[0] - 1]), edgecolor=colors['DF'], s=30, label='Outlier', marker='o', facecolor='white', alpha = 1, zorder = 3)\n",
    "ax.scatter(outbin, (density_dc[np.where(newbins == outbin)[0] - 1]), edgecolor=colors['DC'], s=30, label='Outlier',marker='o', facecolor='white', alpha = 1, zorder = 3)\n",
    "ax.scatter(outbin, (density_m[np.where(newbins == outbin)[0] - 1]), edgecolor=colors['M'], s=30, label='Outlier', marker='o', facecolor='white', alpha = 1, zorder = 3)\n",
    "ax.scatter(outbin, (density_hp_df[np.where(newbins == outbin)[0] - 1]), edgecolor=colors['HP'], s=30, label='Outlier', marker='o', facecolor='white', alpha = 1, zorder = 3)\n",
    "ax.scatter(outbin, (density_hp_dc[np.where(newbins == outbin)[0] - 1]), edgecolor=colors['HP_DC'], s=30, label='Outlier', marker='o', facecolor='white', alpha = 1, zorder = 3)\n",
    "\n",
    "# Add outlier point to the plot\n",
    "ax.scatter(outbin, density_df[np.where(newbins == outbin)], edgecolor=colors['DF'], s=30, label='Outlier', marker='o', facecolor=colors['DF'], zorder = 4)\n",
    "ax.scatter(outbin, density_hp_dc[np.where(newbins == outbin)], edgecolor=colors['DC'], s=30, label='Outlier',marker='o', facecolor=colors['DC'], zorder = 4)\n",
    "ax.scatter(outbin, density_m[np.where(newbins == outbin)], edgecolor=colors['M'], s=30, label='Outlier', marker='o', facecolor=colors['M'], zorder = 4)\n",
    "ax.scatter(outbin, density_hp_df[np.where(newbins == outbin)], edgecolor=colors['HP'], s=30, label='Outlier', marker='o', facecolor=colors['HP'], zorder = 4)\n",
    "ax.scatter(outbin, density_hp_df[np.where(newbins == outbin)], edgecolor=colors['HP'], s=15, label='Outlier', marker='o', facecolor=colors['DF'], zorder = 4)\n",
    "ax.scatter(outbin, density_hp_dc[np.where(newbins == outbin)], edgecolor=colors['HP_DC'], s=30, label='Outlier', marker='o', facecolor=colors['HP_DC'], zorder = 4)\n",
    "ax.scatter(outbin, density_hp_dc[np.where(newbins == outbin)], edgecolor=colors['HP_DC'], s=15, label='Outlier', marker='o', facecolor=colors['DC'], zorder = 4)\n",
    "\n",
    "# Add gridlines\n",
    "ax.grid(True, linestyle='--', alpha=0.6)\n",
    "\n",
    "# Set limits for x-axis and y-axis if necessary\n",
    "ax.set_xlim(0, which_L+0.1)\n",
    "\n",
    "# Customize the ticks\n",
    "ax.tick_params(axis='both', which='major', labelsize=10)\n",
    "ax.yaxis.set_major_formatter(FormatStrFormatter('%.2f'))\n",
    "\n",
    "handles = []\n",
    "labels = []\n",
    "handles.extend([line1, line2, line3, (line4, line5), (line6, line7)])\n",
    "labels.extend([line1.get_label(), line2.get_label(), line3.get_label(), line4.get_label(), line6.get_label()])\n",
    "\n",
    "fig.legend(handles=handles, labels=labels, loc='lower center', bbox_to_anchor=(0.55, -0.2), ncol=2, fontsize=10)\n",
    "\n",
    "# Adjust spacing between subplots for better layout\n",
    "plt.tight_layout(rect=[0, 0, 1, 0.95])\n",
    "plt.show()"
   ],
   "outputs": []
  }
 ],
 "metadata": {
  "kernelspec": {
   "display_name": "Python 3 (ipykernel)",
   "language": "python",
   "name": "python3"
  },
  "language_info": {
   "codemirror_mode": {
    "name": "ipython",
    "version": 3
   },
   "file_extension": ".py",
   "mimetype": "text/x-python",
   "name": "python",
   "nbconvert_exporter": "python",
   "pygments_lexer": "ipython3",
   "version": "3.10.14"
  }
 },
 "nbformat": 4,
 "nbformat_minor": 5
}
